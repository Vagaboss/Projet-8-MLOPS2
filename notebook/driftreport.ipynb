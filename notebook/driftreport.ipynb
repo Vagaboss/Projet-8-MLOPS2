{
 "cells": [
  {
   "cell_type": "code",
   "execution_count": 3,
   "id": "51fd8a5c-d477-4474-8e56-86072f023db5",
   "metadata": {},
   "outputs": [
    {
     "name": "stdout",
     "output_type": "stream",
     "text": [
      "✅ Rapport de dérive généré : ../logs/drift_report.html\n"
     ]
    }
   ],
   "source": [
    "import json\n",
    "import pandas as pd\n",
    "from evidently import Report\n",
    "from evidently.presets import DataDriftPreset\n",
    "\n",
    "# === Chemins relatifs depuis notebook/ ===\n",
    "LOG_PATH = \"../logs/predictions_log.jsonl\"\n",
    "REFERENCE_PATH = \"../datasets/train_final.csv\"\n",
    "REPORT_PATH = \"../logs/drift_report.html\"\n",
    "\n",
    "# === Chargement des données ===\n",
    "\n",
    "# Données de référence\n",
    "df_ref = pd.read_csv(REFERENCE_PATH)\n",
    "\n",
    "# Sélection des colonnes pertinentes pour le modèle (les features que tu exposes dans l'API)\n",
    "# Ex. ici on garde uniquement les colonnes communes aux deux datasets ensuite\n",
    "\n",
    "# === Lecture des prédictions enregistrées dans les logs ===\n",
    "records = []\n",
    "with open(LOG_PATH, \"r\") as f:\n",
    "    for line in f:\n",
    "        log = json.loads(line)\n",
    "        row = log.get(\"input\", {})\n",
    "        row[\"duration\"] = log.get(\"duration\", None)\n",
    "        row[\"prediction\"] = log.get(\"prediction\", None)\n",
    "        records.append(row)\n",
    "\n",
    "# DataFrame des données en production\n",
    "df_prod = pd.DataFrame(records)\n",
    "\n",
    "# === Préparation des données ===\n",
    "# Pour éviter les erreurs, on aligne les colonnes entre les deux DataFrames\n",
    "# On garde uniquement les colonnes communes\n",
    "common_columns = list(set(df_ref.columns) & set(df_prod.columns))\n",
    "df_ref_filtered = df_ref[common_columns].copy()\n",
    "df_prod_filtered = df_prod[common_columns].copy()\n",
    "\n",
    "# === Analyse du drift ===\n",
    "report = Report([DataDriftPreset(method=\"psi\")])\n",
    "my_rep = report.run(reference_data=df_ref_filtered, current_data=df_prod_filtered)\n",
    "my_rep.save_html(REPORT_PATH)\n",
    "\n",
    "print(f\"✅ Rapport de dérive généré : {REPORT_PATH}\")"
   ]
  },
  {
   "cell_type": "markdown",
   "id": "300f80b4-bb30-4c56-b44c-be3808f66810",
   "metadata": {},
   "source": [
    "Analyse du Drift des Données\n",
    "\n",
    "Dans le cadre de la surveillance post-déploiement du modèle, une analyse de dérive des données a été réalisée à l’aide de la bibliothèque Evidently, afin d’identifier d’éventuels écarts significatifs entre les données d'entraînement (référence) et les données utilisées en production via l’API.\n",
    "\n",
    "Le rapport généré (au format HTML) a été sauvegardé dans le dossier logs/ pour consultation visuelle simplifiée.\n",
    "\n",
    "Résultats globaux\n",
    "\n",
    "L’analyse a mis en évidence une dérive importante sur l’ensemble des 11 variables utilisées comme entrées dans l’API. Le dataset drift global est détecté avec un taux de colonnes dérivées de 100 % (11/11). Cela signifie que la distribution des variables observée en production diffère fortement de celle observée lors de l’entraînement.\n",
    "\n",
    "Le seuil de détection configuré est basé sur l’indice PSI (Population Stability Index) : une valeur supérieure à 0.25 indique un drift significatif. Dans notre cas, toutes les variables dépassent largement ce seuil.\n",
    "\n",
    "\n",
    "Parmi les variables les plus impactées par la dérive, on peut citer :\n",
    "\n",
    "CODE_GENDER_F et CODE_GENDER_M (variables catégorielles liées au genre)\n",
    "\n",
    "FLAG_DOCUMENT_3 (variable binaire indiquant la présence d’un document)\n",
    "\n",
    "Ces variables présentent un écart considérable de distribution entre les phases d’entraînement et de production, comme l’illustrent les histogrammes présents dans le rapport.\n",
    "\n",
    "Interprétation et causes potentielles\n",
    "\n",
    "Cette dérive s’explique probablement par le caractère artificiel des données de production utilisées dans le cadre de ce projet. En effet, les inputs ont été générés ou saisis de manière manuelle dans l’interface Gradio, souvent dans le but de tester des cas spécifiques. Ces entrées ne reflètent donc pas nécessairement la réalité statistique des données que l’on retrouverait dans un contexte de production réel.\n",
    "\n",
    "Il est important de noter que ce type de dérive ne remet pas en cause la performance du modèle lui-même, mais souligne l’importance de bien calibrer les jeux de données de monitoring. Dans un environnement réel, il conviendra de :\n",
    "\n",
    "- Connecter l’API à des flux de données plus représentatifs,\n",
    "\n",
    "- Mettre en place une alerte automatique lorsque la dérive dépasse un seuil critique,\n",
    "\n",
    "- Réentraîner le modèle si la dérive persiste dans le temps ou affecte ses performances."
   ]
  }
 ],
 "metadata": {
  "kernelspec": {
   "display_name": "Python 3 (ipykernel)",
   "language": "python",
   "name": "python3"
  },
  "language_info": {
   "codemirror_mode": {
    "name": "ipython",
    "version": 3
   },
   "file_extension": ".py",
   "mimetype": "text/x-python",
   "name": "python",
   "nbconvert_exporter": "python",
   "pygments_lexer": "ipython3",
   "version": "3.13.3"
  }
 },
 "nbformat": 4,
 "nbformat_minor": 5
}
