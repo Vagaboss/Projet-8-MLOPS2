{
 "cells": [
  {
   "cell_type": "code",
   "execution_count": 8,
   "id": "6f5be6fc-a467-4d9f-9c3b-f7554d67a63b",
   "metadata": {},
   "outputs": [],
   "source": [
    "# numpy and pandas for data manipulation\n",
    "import numpy as np\n",
    "import pandas as pd \n",
    "\n",
    "# sklearn preprocessing for dealing with categorical variables\n",
    "from sklearn.preprocessing import LabelEncoder\n",
    "\n",
    "# File system manangement\n",
    "import os\n",
    "\n",
    "# Suppress warnings \n",
    "import warnings\n",
    "warnings.filterwarnings('ignore')\n",
    "\n",
    "# matplotlib and seaborn for plotting\n",
    "import matplotlib.pyplot as plt\n",
    "import seaborn as sns"
   ]
  },
  {
   "cell_type": "code",
   "execution_count": 15,
   "id": "3f3506d2-681c-4a64-8fae-b96ee2d9b654",
   "metadata": {},
   "outputs": [
    {
     "name": "stdout",
     "output_type": "stream",
     "text": [
      "['test_final.csv', 'train_final.csv']\n"
     ]
    }
   ],
   "source": [
    "import os\n",
    "import pandas as pd\n",
    "\n",
    "# Changer le répertoire courant\n",
    "os.chdir(r\"C:\\Users\\yacin\\Desktop\\DATA SCIENCE OPENCLASSROOMS\\Projet 8 MLOPS2\\datasets\")\n",
    "\n",
    "# Afficher les fichiers pour vérifier\n",
    "print(os.listdir())"
   ]
  },
  {
   "cell_type": "code",
   "execution_count": 10,
   "id": "4788bf90-eece-4da3-b60e-49a5886e357b",
   "metadata": {},
   "outputs": [],
   "source": [
    "train_final = pd.read_csv(\"train_final.csv\")"
   ]
  },
  {
   "cell_type": "code",
   "execution_count": 11,
   "id": "f539e992-7152-41ac-a884-1e372515c2ff",
   "metadata": {},
   "outputs": [],
   "source": [
    "test_final = pd.read_csv(\"test_final.csv\")"
   ]
  },
  {
   "cell_type": "code",
   "execution_count": 17,
   "id": "c539aabc-d352-4a4a-ad30-215900375a76",
   "metadata": {},
   "outputs": [
    {
     "data": {
      "text/plain": [
       "(307511, 598)"
      ]
     },
     "execution_count": 17,
     "metadata": {},
     "output_type": "execute_result"
    }
   ],
   "source": [
    "train_final.shape"
   ]
  },
  {
   "cell_type": "code",
   "execution_count": 18,
   "id": "5b6c4357-c24f-4112-9640-80cd603af2d7",
   "metadata": {},
   "outputs": [
    {
     "data": {
      "text/plain": [
       "(48744, 597)"
      ]
     },
     "execution_count": 18,
     "metadata": {},
     "output_type": "execute_result"
    }
   ],
   "source": [
    "test_final.shape"
   ]
  },
  {
   "cell_type": "code",
   "execution_count": null,
   "id": "86c26b0b-5330-443b-91cc-5fd8d7d295ba",
   "metadata": {},
   "outputs": [],
   "source": [
    "from sklearn.model_selection import train_test_split\n",
    "\n",
    "X = train_final.drop(columns=[\"TARGET\"])\n",
    "y = train_final[\"TARGET\"]\n",
    "\n",
    "X_train, X_test, y_train, y_test = train_test_split(\n",
    "    X, y, test_size=0.2, random_state=42\n",
    ")"
   ]
  },
  {
   "cell_type": "markdown",
   "id": "cd90528d-7447-4dd9-a270-cbe264fd47c4",
   "metadata": {},
   "source": [
    "## Fusion des données "
   ]
  },
  {
   "cell_type": "code",
   "execution_count": 22,
   "id": "ba521b24-4f98-415b-9b75-34dfedb1de15",
   "metadata": {},
   "outputs": [],
   "source": [
    "def aggregate_and_merge(main_df, df_to_agg, main_key, agg_key, prefix):\n",
    "    \"\"\"\n",
    "    Agrège les colonnes numériques de df_to_agg par agg_key\n",
    "    et fusionne le résultat à main_df via main_key.\n",
    "    \"\"\"\n",
    "    # Garder uniquement les colonnes numériques\n",
    "    numeric_df = df_to_agg.select_dtypes(include=['number']).copy()\n",
    "\n",
    "    # Ajouter la clé si absente\n",
    "    if agg_key not in numeric_df.columns:\n",
    "        numeric_df[agg_key] = df_to_agg[agg_key]\n",
    "\n",
    "    # Aggrégation\n",
    "    agg_funcs = ['count', 'mean', 'max', 'min', 'sum']\n",
    "    agg_df = numeric_df.groupby(agg_key).agg(agg_funcs)\n",
    "\n",
    "    # Renommage des colonnes\n",
    "    agg_df.columns = [f\"{prefix}_{col[0]}_{col[1]}\" for col in agg_df.columns]\n",
    "    agg_df.reset_index(inplace=True)\n",
    "\n",
    "    # Fusion avec suppression éventuelle de la clé\n",
    "    merged_df = main_df.merge(agg_df, how='left', left_on=main_key, right_on=agg_key)\n",
    "    if agg_key in merged_df.columns and agg_key != main_key:\n",
    "        merged_df.drop(columns=agg_key, inplace=True)\n",
    "\n",
    "    return merged_df\n"
   ]
  },
  {
   "cell_type": "code",
   "execution_count": 23,
   "id": "c6f441cf-a264-4264-8e8c-8c6e4fe9b6d6",
   "metadata": {},
   "outputs": [],
   "source": [
    "# Étape 1 : Bureau balance → bureau\n",
    "bur = aggregate_and_merge(bur, bur_bal, 'SK_ID_BUREAU', 'SK_ID_BUREAU', 'BUREAU_BAL')"
   ]
  },
  {
   "cell_type": "code",
   "execution_count": 24,
   "id": "1544ffb8-60f4-4675-bd1f-c67da6212281",
   "metadata": {},
   "outputs": [],
   "source": [
    "# Étape 2 : Bureau → application\n",
    "app_train = aggregate_and_merge(app_train, bur, 'SK_ID_CURR', 'SK_ID_CURR', 'BUREAU')\n",
    "app_test = aggregate_and_merge(app_test, bur, 'SK_ID_CURR', 'SK_ID_CURR', 'BUREAU')"
   ]
  },
  {
   "cell_type": "code",
   "execution_count": 25,
   "id": "734a4cb6-cac6-4088-90f4-50895f3b5a4c",
   "metadata": {},
   "outputs": [],
   "source": [
    "# Étape 3 : Previous application → application\n",
    "app_train = aggregate_and_merge(app_train, prev_app, 'SK_ID_CURR', 'SK_ID_CURR', 'PREV')\n",
    "app_test = aggregate_and_merge(app_test, prev_app, 'SK_ID_CURR', 'SK_ID_CURR', 'PREV')"
   ]
  },
  {
   "cell_type": "code",
   "execution_count": 26,
   "id": "fdfedf48-1620-4b58-a89a-65516597c85f",
   "metadata": {},
   "outputs": [],
   "source": [
    "# Étape 4 : POS_CASH_balance → application\n",
    "app_train = aggregate_and_merge(app_train, poscash_bal, 'SK_ID_CURR', 'SK_ID_CURR', 'POS')\n",
    "app_test = aggregate_and_merge(app_test, poscash_bal, 'SK_ID_CURR', 'SK_ID_CURR', 'POS')"
   ]
  },
  {
   "cell_type": "code",
   "execution_count": 27,
   "id": "ac6582d2-2145-4da2-9b24-de4ab3f69153",
   "metadata": {},
   "outputs": [],
   "source": [
    "# Étape 5 : Credit card balance → application\n",
    "app_train = aggregate_and_merge(app_train, crecard_bal, 'SK_ID_CURR', 'SK_ID_CURR', 'CRECARD')\n",
    "app_test = aggregate_and_merge(app_test, crecard_bal, 'SK_ID_CURR', 'SK_ID_CURR', 'CRECARD')"
   ]
  },
  {
   "cell_type": "code",
   "execution_count": 28,
   "id": "14c98212-e514-43bf-a3f3-dee036952aba",
   "metadata": {},
   "outputs": [],
   "source": [
    "# Étape 6 : Installments payments → application\n",
    "app_train = aggregate_and_merge(app_train, inst_pay, 'SK_ID_CURR', 'SK_ID_CURR', 'INSTALL')\n",
    "app_test = aggregate_and_merge(app_test, inst_pay, 'SK_ID_CURR', 'SK_ID_CURR', 'INSTALL')"
   ]
  },
  {
   "cell_type": "code",
   "execution_count": 29,
   "id": "62783290-d765-4d85-a847-b1fa7cab776f",
   "metadata": {},
   "outputs": [
    {
     "data": {
      "text/plain": [
       "(307511, 482)"
      ]
     },
     "execution_count": 29,
     "metadata": {},
     "output_type": "execute_result"
    }
   ],
   "source": [
    "app_train.shape"
   ]
  },
  {
   "cell_type": "code",
   "execution_count": 30,
   "id": "9c0c502a-d88f-4256-aa9d-9437f49dedef",
   "metadata": {},
   "outputs": [
    {
     "data": {
      "text/plain": [
       "(48744, 481)"
      ]
     },
     "execution_count": 30,
     "metadata": {},
     "output_type": "execute_result"
    }
   ],
   "source": [
    "app_test.shape"
   ]
  },
  {
   "cell_type": "code",
   "execution_count": 35,
   "id": "1f8886e4-56c4-4c08-b363-8e5e1fa7a071",
   "metadata": {},
   "outputs": [
    {
     "name": "stdout",
     "output_type": "stream",
     "text": [
      "C:\\Users\\yacin\\Desktop\\DATA SCIENCE OPENCLASSROOMS\\Projet 6 MLOPS\\DATASETP6\n"
     ]
    }
   ],
   "source": [
    "import os\n",
    "print(os.getcwd())"
   ]
  },
  {
   "cell_type": "code",
   "execution_count": null,
   "id": "7eb3dd06-9c65-432b-97a1-91d641d29b4d",
   "metadata": {},
   "outputs": [],
   "source": [
    "# 1. Sauvegarder les fichiers localement\n",
    "app_train.to_csv(\"app_train.csv\", index=False)\n",
    "app_test.to_csv(\"app_test.csv\", index=False)"
   ]
  },
  {
   "cell_type": "markdown",
   "id": "25435c3a-77ec-41a4-8cba-b2864b0f8691",
   "metadata": {},
   "source": [
    "## Exploration du df fusionné"
   ]
  },
  {
   "cell_type": "code",
   "execution_count": 31,
   "id": "acd6e366-645c-4fdc-9b41-2d00d7709db7",
   "metadata": {},
   "outputs": [
    {
     "name": "stdout",
     "output_type": "stream",
     "text": [
      "Your selected dataframe has 482 columns.\n",
      "There are 427 columns that have missing values.\n"
     ]
    },
    {
     "data": {
      "text/html": [
       "<div>\n",
       "<style scoped>\n",
       "    .dataframe tbody tr th:only-of-type {\n",
       "        vertical-align: middle;\n",
       "    }\n",
       "\n",
       "    .dataframe tbody tr th {\n",
       "        vertical-align: top;\n",
       "    }\n",
       "\n",
       "    .dataframe thead th {\n",
       "        text-align: right;\n",
       "    }\n",
       "</style>\n",
       "<table border=\"1\" class=\"dataframe\">\n",
       "  <thead>\n",
       "    <tr style=\"text-align: right;\">\n",
       "      <th></th>\n",
       "      <th>Missing Values</th>\n",
       "      <th>% of Total Values</th>\n",
       "    </tr>\n",
       "  </thead>\n",
       "  <tbody>\n",
       "    <tr>\n",
       "      <th>PREV_RATE_INTEREST_PRIMARY_min</th>\n",
       "      <td>302902</td>\n",
       "      <td>98.5</td>\n",
       "    </tr>\n",
       "    <tr>\n",
       "      <th>PREV_RATE_INTEREST_PRIVILEGED_min</th>\n",
       "      <td>302902</td>\n",
       "      <td>98.5</td>\n",
       "    </tr>\n",
       "    <tr>\n",
       "      <th>PREV_RATE_INTEREST_PRIMARY_mean</th>\n",
       "      <td>302902</td>\n",
       "      <td>98.5</td>\n",
       "    </tr>\n",
       "    <tr>\n",
       "      <th>PREV_RATE_INTEREST_PRIVILEGED_mean</th>\n",
       "      <td>302902</td>\n",
       "      <td>98.5</td>\n",
       "    </tr>\n",
       "    <tr>\n",
       "      <th>PREV_RATE_INTEREST_PRIVILEGED_max</th>\n",
       "      <td>302902</td>\n",
       "      <td>98.5</td>\n",
       "    </tr>\n",
       "    <tr>\n",
       "      <th>...</th>\n",
       "      <td>...</td>\n",
       "      <td>...</td>\n",
       "    </tr>\n",
       "    <tr>\n",
       "      <th>EXT_SOURCE_2</th>\n",
       "      <td>660</td>\n",
       "      <td>0.2</td>\n",
       "    </tr>\n",
       "    <tr>\n",
       "      <th>AMT_GOODS_PRICE</th>\n",
       "      <td>278</td>\n",
       "      <td>0.1</td>\n",
       "    </tr>\n",
       "    <tr>\n",
       "      <th>AMT_ANNUITY</th>\n",
       "      <td>12</td>\n",
       "      <td>0.0</td>\n",
       "    </tr>\n",
       "    <tr>\n",
       "      <th>CNT_FAM_MEMBERS</th>\n",
       "      <td>2</td>\n",
       "      <td>0.0</td>\n",
       "    </tr>\n",
       "    <tr>\n",
       "      <th>DAYS_LAST_PHONE_CHANGE</th>\n",
       "      <td>1</td>\n",
       "      <td>0.0</td>\n",
       "    </tr>\n",
       "  </tbody>\n",
       "</table>\n",
       "<p>427 rows × 2 columns</p>\n",
       "</div>"
      ],
      "text/plain": [
       "                                    Missing Values  % of Total Values\n",
       "PREV_RATE_INTEREST_PRIMARY_min              302902               98.5\n",
       "PREV_RATE_INTEREST_PRIVILEGED_min           302902               98.5\n",
       "PREV_RATE_INTEREST_PRIMARY_mean             302902               98.5\n",
       "PREV_RATE_INTEREST_PRIVILEGED_mean          302902               98.5\n",
       "PREV_RATE_INTEREST_PRIVILEGED_max           302902               98.5\n",
       "...                                            ...                ...\n",
       "EXT_SOURCE_2                                   660                0.2\n",
       "AMT_GOODS_PRICE                                278                0.1\n",
       "AMT_ANNUITY                                     12                0.0\n",
       "CNT_FAM_MEMBERS                                  2                0.0\n",
       "DAYS_LAST_PHONE_CHANGE                           1                0.0\n",
       "\n",
       "[427 rows x 2 columns]"
      ]
     },
     "execution_count": 31,
     "metadata": {},
     "output_type": "execute_result"
    }
   ],
   "source": [
    "missing_values_table(app_train)"
   ]
  },
  {
   "cell_type": "code",
   "execution_count": 32,
   "id": "fe0f49e6-791d-4393-b0e2-4fa24beda942",
   "metadata": {},
   "outputs": [
    {
     "name": "stdout",
     "output_type": "stream",
     "text": [
      "Your selected dataframe has 481 columns.\n",
      "There are 424 columns that have missing values.\n"
     ]
    },
    {
     "data": {
      "text/html": [
       "<div>\n",
       "<style scoped>\n",
       "    .dataframe tbody tr th:only-of-type {\n",
       "        vertical-align: middle;\n",
       "    }\n",
       "\n",
       "    .dataframe tbody tr th {\n",
       "        vertical-align: top;\n",
       "    }\n",
       "\n",
       "    .dataframe thead th {\n",
       "        text-align: right;\n",
       "    }\n",
       "</style>\n",
       "<table border=\"1\" class=\"dataframe\">\n",
       "  <thead>\n",
       "    <tr style=\"text-align: right;\">\n",
       "      <th></th>\n",
       "      <th>Missing Values</th>\n",
       "      <th>% of Total Values</th>\n",
       "    </tr>\n",
       "  </thead>\n",
       "  <tbody>\n",
       "    <tr>\n",
       "      <th>PREV_RATE_INTEREST_PRIVILEGED_min</th>\n",
       "      <td>47632</td>\n",
       "      <td>97.7</td>\n",
       "    </tr>\n",
       "    <tr>\n",
       "      <th>PREV_RATE_INTEREST_PRIVILEGED_max</th>\n",
       "      <td>47632</td>\n",
       "      <td>97.7</td>\n",
       "    </tr>\n",
       "    <tr>\n",
       "      <th>PREV_RATE_INTEREST_PRIMARY_max</th>\n",
       "      <td>47632</td>\n",
       "      <td>97.7</td>\n",
       "    </tr>\n",
       "    <tr>\n",
       "      <th>PREV_RATE_INTEREST_PRIMARY_mean</th>\n",
       "      <td>47632</td>\n",
       "      <td>97.7</td>\n",
       "    </tr>\n",
       "    <tr>\n",
       "      <th>PREV_RATE_INTEREST_PRIVILEGED_mean</th>\n",
       "      <td>47632</td>\n",
       "      <td>97.7</td>\n",
       "    </tr>\n",
       "    <tr>\n",
       "      <th>...</th>\n",
       "      <td>...</td>\n",
       "      <td>...</td>\n",
       "    </tr>\n",
       "    <tr>\n",
       "      <th>OBS_60_CNT_SOCIAL_CIRCLE</th>\n",
       "      <td>29</td>\n",
       "      <td>0.1</td>\n",
       "    </tr>\n",
       "    <tr>\n",
       "      <th>DEF_30_CNT_SOCIAL_CIRCLE</th>\n",
       "      <td>29</td>\n",
       "      <td>0.1</td>\n",
       "    </tr>\n",
       "    <tr>\n",
       "      <th>OBS_30_CNT_SOCIAL_CIRCLE</th>\n",
       "      <td>29</td>\n",
       "      <td>0.1</td>\n",
       "    </tr>\n",
       "    <tr>\n",
       "      <th>AMT_ANNUITY</th>\n",
       "      <td>24</td>\n",
       "      <td>0.0</td>\n",
       "    </tr>\n",
       "    <tr>\n",
       "      <th>EXT_SOURCE_2</th>\n",
       "      <td>8</td>\n",
       "      <td>0.0</td>\n",
       "    </tr>\n",
       "  </tbody>\n",
       "</table>\n",
       "<p>424 rows × 2 columns</p>\n",
       "</div>"
      ],
      "text/plain": [
       "                                    Missing Values  % of Total Values\n",
       "PREV_RATE_INTEREST_PRIVILEGED_min            47632               97.7\n",
       "PREV_RATE_INTEREST_PRIVILEGED_max            47632               97.7\n",
       "PREV_RATE_INTEREST_PRIMARY_max               47632               97.7\n",
       "PREV_RATE_INTEREST_PRIMARY_mean              47632               97.7\n",
       "PREV_RATE_INTEREST_PRIVILEGED_mean           47632               97.7\n",
       "...                                            ...                ...\n",
       "OBS_60_CNT_SOCIAL_CIRCLE                        29                0.1\n",
       "DEF_30_CNT_SOCIAL_CIRCLE                        29                0.1\n",
       "OBS_30_CNT_SOCIAL_CIRCLE                        29                0.1\n",
       "AMT_ANNUITY                                     24                0.0\n",
       "EXT_SOURCE_2                                     8                0.0\n",
       "\n",
       "[424 rows x 2 columns]"
      ]
     },
     "execution_count": 32,
     "metadata": {},
     "output_type": "execute_result"
    }
   ],
   "source": [
    "missing_values_table(app_test)"
   ]
  },
  {
   "cell_type": "code",
   "execution_count": 33,
   "id": "0d0590f0-3268-4eda-8b5a-db659f4bd13a",
   "metadata": {},
   "outputs": [
    {
     "data": {
      "text/plain": [
       "TARGET\n",
       "0    282686\n",
       "1     24825\n",
       "Name: count, dtype: int64"
      ]
     },
     "execution_count": 33,
     "metadata": {},
     "output_type": "execute_result"
    }
   ],
   "source": [
    "app_train['TARGET'].value_counts()"
   ]
  },
  {
   "cell_type": "code",
   "execution_count": 34,
   "id": "31ab3ca9-b3c7-462e-9e51-74a6047d2569",
   "metadata": {},
   "outputs": [
    {
     "data": {
      "text/plain": [
       "float64    425\n",
       "int64       41\n",
       "object      16\n",
       "Name: count, dtype: int64"
      ]
     },
     "execution_count": 34,
     "metadata": {},
     "output_type": "execute_result"
    }
   ],
   "source": [
    "app_train.dtypes.value_counts()"
   ]
  },
  {
   "cell_type": "code",
   "execution_count": 35,
   "id": "4c4edb07-5a0d-4819-bb83-0c00c3aa9182",
   "metadata": {},
   "outputs": [
    {
     "data": {
      "image/png": "[encoded data removed]",
      "text/plain": [
       "<Figure size 640x480 with 1 Axes>"
      ]
     },
     "metadata": {},
     "output_type": "display_data"
    }
   ],
   "source": [
    "app_train['TARGET'].astype(int).plot.hist();"
   ]
  },
  {
   "cell_type": "code",
   "execution_count": 36,
   "id": "d8116498-c3af-4a8a-8273-66ace12b3457",
   "metadata": {},
   "outputs": [],
   "source": [
    "pd.set_option('display.max_rows', 100)\n",
    "pd.set_option('display.max_columns', 100)"
   ]
  },
  {
   "cell_type": "code",
   "execution_count": 37,
   "id": "a5d0b04b-2d5e-4f74-8504-82c59dbee588",
   "metadata": {
    "scrolled": true
   },
   "outputs": [
    {
     "name": "stdout",
     "output_type": "stream",
     "text": [
      "Colonnes avec plus de 85% de valeurs manquantes :\n",
      "PREV_RATE_INTEREST_PRIMARY_mean            98.501192\n",
      "PREV_RATE_INTEREST_PRIMARY_max             98.501192\n",
      "PREV_RATE_INTEREST_PRIMARY_min             98.501192\n",
      "PREV_RATE_INTEREST_PRIVILEGED_mean         98.501192\n",
      "PREV_RATE_INTEREST_PRIVILEGED_max          98.501192\n",
      "PREV_RATE_INTEREST_PRIVILEGED_min          98.501192\n",
      "CRECARD_AMT_PAYMENT_CURRENT_max            80.143800\n",
      "CRECARD_AMT_PAYMENT_CURRENT_min            80.143800\n",
      "CRECARD_AMT_PAYMENT_CURRENT_mean           80.143800\n",
      "CRECARD_AMT_DRAWINGS_ATM_CURRENT_max       80.117784\n",
      "CRECARD_AMT_DRAWINGS_ATM_CURRENT_mean      80.117784\n",
      "CRECARD_AMT_DRAWINGS_OTHER_CURRENT_max     80.117784\n",
      "CRECARD_AMT_DRAWINGS_OTHER_CURRENT_mean    80.117784\n",
      "CRECARD_AMT_DRAWINGS_ATM_CURRENT_min       80.117784\n",
      "CRECARD_AMT_DRAWINGS_OTHER_CURRENT_min     80.117784\n",
      "CRECARD_AMT_DRAWINGS_POS_CURRENT_min       80.117784\n",
      "CRECARD_AMT_DRAWINGS_POS_CURRENT_max       80.117784\n",
      "CRECARD_AMT_DRAWINGS_POS_CURRENT_mean      80.117784\n",
      "CRECARD_CNT_DRAWINGS_ATM_CURRENT_mean      80.117784\n",
      "CRECARD_CNT_DRAWINGS_ATM_CURRENT_max       80.117784\n",
      "CRECARD_CNT_DRAWINGS_ATM_CURRENT_min       80.117784\n",
      "CRECARD_CNT_DRAWINGS_OTHER_CURRENT_mean    80.117784\n",
      "CRECARD_CNT_DRAWINGS_OTHER_CURRENT_max     80.117784\n",
      "CRECARD_CNT_DRAWINGS_OTHER_CURRENT_min     80.117784\n",
      "CRECARD_CNT_DRAWINGS_POS_CURRENT_mean      80.117784\n",
      "CRECARD_CNT_DRAWINGS_POS_CURRENT_max       80.117784\n",
      "CRECARD_CNT_DRAWINGS_POS_CURRENT_min       80.117784\n",
      "dtype: float64\n"
     ]
    }
   ],
   "source": [
    "# Pourcentage de valeurs manquantes dans chaque colonne\n",
    "missing_percent = app_train.isnull().mean() * 100\n",
    "\n",
    "# Colonnes avec plus de 90% de NaN\n",
    "high_na_columns = missing_percent[missing_percent > 80].sort_values(ascending=False)\n",
    "\n",
    "# Affichage\n",
    "print(\"Colonnes avec plus de 85% de valeurs manquantes :\")\n",
    "print(high_na_columns)\n"
   ]
  },
  {
   "cell_type": "code",
   "execution_count": 38,
   "id": "46283f1e-3479-4a54-8a3d-89ac21c24d55",
   "metadata": {},
   "outputs": [],
   "source": [
    "# Supprimer toutes les colonnes avec plus de 90 % de NaN\n",
    "app_train = app_train.loc[:, app_train.isnull().mean() < 0.90]\n",
    "app_test = app_test.loc[:, app_test.isnull().mean() < 0.90]"
   ]
  },
  {
   "cell_type": "code",
   "execution_count": 39,
   "id": "080ab4c0-55ad-48c3-8a97-91adb41af9f6",
   "metadata": {},
   "outputs": [
    {
     "data": {
      "text/plain": [
       "(307511, 476)"
      ]
     },
     "execution_count": 39,
     "metadata": {},
     "output_type": "execute_result"
    }
   ],
   "source": [
    "app_train.shape"
   ]
  },
  {
   "cell_type": "markdown",
   "id": "ab1435e6-1d98-4a7c-ac8b-06a0d2dfc001",
   "metadata": {},
   "source": [
    "## Encodage des variables et alignement"
   ]
  },
  {
   "cell_type": "code",
   "execution_count": 40,
   "id": "0dc274d5-c6ee-41e3-a5d8-07ea7c99bb8f",
   "metadata": {},
   "outputs": [
    {
     "name": "stdout",
     "output_type": "stream",
     "text": [
      "3 columns were label encoded.\n"
     ]
    }
   ],
   "source": [
    "# Create a label encoder object\n",
    "le = LabelEncoder()\n",
    "le_count = 0\n",
    "\n",
    "# Iterate through the columns\n",
    "for col in app_train:\n",
    "    if app_train[col].dtype == 'object':\n",
    "        # If 2 or fewer unique categories\n",
    "        if len(list(app_train[col].unique())) <= 2:\n",
    "            # Train on the training data\n",
    "            le.fit(app_train[col])\n",
    "            # Transform both training and testing data\n",
    "            app_train[col] = le.transform(app_train[col])\n",
    "            app_test[col] = le.transform(app_test[col])\n",
    "            \n",
    "            # Keep track of how many columns were label encoded\n",
    "            le_count += 1\n",
    "            \n",
    "print('%d columns were label encoded.' % le_count)"
   ]
  },
  {
   "cell_type": "code",
   "execution_count": 41,
   "id": "afe6c6af-c373-4028-ba76-68f03f5968b3",
   "metadata": {},
   "outputs": [
    {
     "name": "stdout",
     "output_type": "stream",
     "text": [
      "Training Features shape:  (307511, 597)\n",
      "Testing Features shape:  (48744, 593)\n"
     ]
    }
   ],
   "source": [
    "# one-hot encoding of categorical variables\n",
    "app_train2 = pd.get_dummies(app_train)\n",
    "app_test2 = pd.get_dummies(app_test)\n",
    "\n",
    "print('Training Features shape: ', app_train2.shape)\n",
    "print('Testing Features shape: ', app_test2.shape)"
   ]
  },
  {
   "cell_type": "code",
   "execution_count": 42,
   "id": "c3271400-fbd2-4e29-83a6-02024a6f34ed",
   "metadata": {},
   "outputs": [
    {
     "name": "stdout",
     "output_type": "stream",
     "text": [
      "Training Features shape:  (307511, 594)\n",
      "Testing Features shape:  (48744, 593)\n"
     ]
    }
   ],
   "source": [
    "train_labels = app_train2['TARGET']\n",
    "\n",
    "# Align the training and testing data, keep only columns present in both dataframes\n",
    "app_train2, app_test2 = app_train2.align(app_test2, join = 'inner', axis = 1)\n",
    "\n",
    "# Add the target back in\n",
    "app_train2['TARGET'] = train_labels\n",
    "\n",
    "print('Training Features shape: ', app_train2.shape)\n",
    "print('Testing Features shape: ', app_test2.shape)"
   ]
  },
  {
   "cell_type": "code",
   "execution_count": 76,
   "id": "632ea5b9-f11f-4d89-b3d0-3102ab5e85c5",
   "metadata": {},
   "outputs": [],
   "source": [
    "import numpy as np\n",
    "import matplotlib.pyplot as plt\n",
    "import optuna\n",
    "import mlflow\n",
    "import mlflow.sklearn\n",
    "from sklearn.model_selection import StratifiedKFold, cross_val_predict\n",
    "from sklearn.metrics import precision_score, recall_score, f1_score, roc_auc_score, accuracy_score, confusion_matrix\n",
    "\n",
    "\n",
    "# ----------- Fonction de coût métier -----------\n",
    "def compute_business_cost(y_true, y_pred, fn_cost=10, fp_cost=1):\n",
    "    cm = confusion_matrix(y_true, y_pred)\n",
    "    tn, fp, fn, tp = cm.ravel()\n",
    "    return fn * fn_cost + fp * fp_cost\n",
    "\n",
    "# ----------- Recherche du meilleur seuil -----------\n",
    "def find_best_threshold(y_true, y_probas, thresholds=np.linspace(0.1, 0.9, 81), fn_cost=10, fp_cost=1):\n",
    "    best_threshold = 0.5\n",
    "    lowest_cost = float(\"inf\")\n",
    "    cost_per_threshold = []\n",
    "\n",
    "    for threshold in thresholds:\n",
    "        y_pred = (y_probas >= threshold).astype(int)\n",
    "        cost = compute_business_cost(y_true, y_pred, fn_cost, fp_cost)\n",
    "        cost_per_threshold.append((threshold, cost))\n",
    "        if cost < lowest_cost:\n",
    "            best_threshold = threshold\n",
    "            lowest_cost = cost\n",
    "\n",
    "    return best_threshold, lowest_cost, cost_per_threshold\n",
    "\n",
    "\n",
    "# ----------- Pipeline rapide et optimisé -----------\n",
    "def evaluate_model_with_cv_and_optuna(\n",
    "    model_class,\n",
    "    model_name,\n",
    "    X_train,\n",
    "    y_train,\n",
    "    X_test,\n",
    "    y_test,\n",
    "    param_space,\n",
    "    cv_splits=5,\n",
    "    fn_cost=10,\n",
    "    fp_cost=1\n",
    "):\n",
    "    def compute_business_cost(y_true, y_pred, fn_cost=10, fp_cost=1):\n",
    "        cm = confusion_matrix(y_true, y_pred)\n",
    "        tn, fp, fn, tp = cm.ravel()\n",
    "        return fn * fn_cost + fp * fp_cost\n",
    "\n",
    "    def find_best_threshold(y_true, y_probas, thresholds=np.linspace(0.1, 0.9, 81), fn_cost=10, fp_cost=1):\n",
    "        best_threshold = 0.5\n",
    "        lowest_cost = float(\"inf\")\n",
    "        cost_per_threshold = []\n",
    "\n",
    "        for threshold in thresholds:\n",
    "            y_pred = (y_probas >= threshold).astype(int)\n",
    "            cost = compute_business_cost(y_true, y_pred, fn_cost, fp_cost)\n",
    "            cost_per_threshold.append((threshold, cost))\n",
    "            if cost < lowest_cost:\n",
    "                best_threshold = threshold\n",
    "                lowest_cost = cost\n",
    "\n",
    "        return best_threshold, lowest_cost, cost_per_threshold\n",
    "\n",
    "\n",
    "    def objective(trial):\n",
    "        params = {}\n",
    "        for key, space in param_space.items():\n",
    "            if isinstance(space, tuple):\n",
    "                if space[0] == \"int\":\n",
    "                    params[key] = trial.suggest_int(key, space[1], space[2])\n",
    "                elif space[0] == \"float\":\n",
    "                    params[key] = trial.suggest_float(key, space[1], space[2])\n",
    "                else:\n",
    "                    raise ValueError(f\"Unknown type in param_space for key '{key}': {space[0]}\")\n",
    "            else:\n",
    "                params[key] = trial.suggest_categorical(key, space)\n",
    "\n",
    "        model = model_class(**params)\n",
    "        y_val_proba = cross_val_predict(\n",
    "            model,\n",
    "            X_train,\n",
    "            y_train,\n",
    "            cv=StratifiedKFold(n_splits=cv_splits, shuffle=True, random_state=42),\n",
    "            method='predict_proba',\n",
    "            n_jobs=-1\n",
    "        )[:, 1]\n",
    "        y_val_pred = (y_val_proba >= 0.5).astype(int)\n",
    "        return compute_business_cost(y_train, y_val_pred, fn_cost, fp_cost)\n",
    "\n",
    "    study = optuna.create_study(direction=\"minimize\")\n",
    "    study.optimize(objective, n_trials=30)\n",
    "    best_params = study.best_params\n",
    "\n",
    "    best_model = model_class(**best_params)\n",
    "    best_model.fit(X_train, y_train)\n",
    "\n",
    "    y_proba = best_model.predict_proba(X_test)[:, 1]\n",
    "    best_threshold, cost, cost_curve = find_best_threshold(y_test, y_proba, fn_cost=fn_cost, fp_cost=fp_cost)\n",
    "    y_pred = (y_proba >= best_threshold).astype(int)\n",
    "\n",
    "    with mlflow.start_run(nested=True):\n",
    "        mlflow.log_param(\"model_name\", model_name)\n",
    "        for k, v in best_params.items():\n",
    "            mlflow.log_param(k, v)\n",
    "\n",
    "        mlflow.log_metric(\"best_threshold\", best_threshold)\n",
    "        mlflow.log_metric(\"business_cost\", cost)\n",
    "        mlflow.log_metric(\"f1_score\", f1_score(y_test, y_pred))\n",
    "        mlflow.log_metric(\"precision\", precision_score(y_test, y_pred))\n",
    "        mlflow.log_metric(\"recall\", recall_score(y_test, y_pred))\n",
    "        mlflow.log_metric(\"roc_auc\", roc_auc_score(y_test, y_proba))\n",
    "        mlflow.log_metric(\"accuracy\", accuracy_score(y_test, y_pred))\n",
    "\n",
    "        mlflow.sklearn.log_model(best_model, \"model\", registered_model_name=model_name)\n",
    "\n",
    "    plot_cost_vs_threshold(cost_curve)\n"
   ]
  },
  {
   "cell_type": "markdown",
   "id": "fe881967-c617-42cf-b4b4-13d38c90d2af",
   "metadata": {},
   "source": [
    "Pourquoi un seuil à 0.1 : Par défaut, le seuil est 0.5.\n",
    "Mais dans ton projet, accorder un crédit à un mauvais client (FN) est très coûteux.\n",
    "\n",
    "Donc, en abaissant le seuil à 0.1, tu dis :\n",
    "\n",
    "    \"Même si j’ai seulement 10% de certitude qu’un client est mauvais, je préfère le classer comme tel pour éviter une perte potentielle.\""
   ]
  },
  {
   "cell_type": "code",
   "execution_count": 89,
   "id": "58be88c1-1c62-4d8f-a496-c3a89a40d4c0",
   "metadata": {},
   "outputs": [],
   "source": [
    "#XGBOOST"
   ]
  },
  {
   "cell_type": "code",
   "execution_count": 98,
   "id": "fb7832b5-8f0f-413f-9def-6ebd0b6800c8",
   "metadata": {},
   "outputs": [],
   "source": [
    "from xgboost import XGBClassifier\n",
    "param_space_xgb = {\n",
    "    \"n_estimators\": (\"int\", 50, 150),\n",
    "    \"max_depth\": (\"int\", 3, 6),\n",
    "    \"learning_rate\": (\"float\", 0.01, 0.3),\n",
    "    \"subsample\": (\"float\", 0.6, 1.0),\n",
    "    \"colsample_bytree\": (\"float\", 0.6, 1.0),\n",
    "    \"gamma\": (\"float\", 0.0, 5.0),\n",
    "    \"reg_lambda\": (\"float\", 0.001, 10.0),\n",
    "    \"reg_alpha\": (\"float\", 0.001, 10.0),\n",
    "}\n",
    "\n"
   ]
  },
  {
   "cell_type": "code",
   "execution_count": 99,
   "id": "d4bae7ee-b6bf-4417-ac5b-174ca60fd5ab",
   "metadata": {},
   "outputs": [
    {
     "name": "stderr",
     "output_type": "stream",
     "text": [
      "[I 2025-07-22 12:30:34,636] A new study created in memory with name: no-name-8bba0d40-0baa-478b-bf2b-903e3a70476f\n",
      "[I 2025-07-22 12:30:55,523] Trial 0 finished with value: 188555.0 and parameters: {'n_estimators': 129, 'max_depth': 5, 'learning_rate': 0.2712582907788911, 'subsample': 0.6592305555889861, 'colsample_bytree': 0.8884773289752749, 'gamma': 0.9904412828734699, 'reg_lambda': 7.120059878336533, 'reg_alpha': 8.398715064964064}. Best is trial 0 with value: 188555.0.\n",
      "[I 2025-07-22 12:31:11,232] Trial 1 finished with value: 191839.0 and parameters: {'n_estimators': 106, 'max_depth': 4, 'learning_rate': 0.1821466239906083, 'subsample': 0.6026807758531344, 'colsample_bytree': 0.6948536964894557, 'gamma': 4.6160786825101665, 'reg_lambda': 5.162827464503258, 'reg_alpha': 8.260878658744675}. Best is trial 0 with value: 188555.0.\n",
      "[I 2025-07-22 12:31:27,121] Trial 2 finished with value: 190957.0 and parameters: {'n_estimators': 69, 'max_depth': 6, 'learning_rate': 0.20078445281000126, 'subsample': 0.685528544674934, 'colsample_bytree': 0.7424004740361587, 'gamma': 1.7835715244597856, 'reg_lambda': 3.240701182136117, 'reg_alpha': 4.094900385826315}. Best is trial 0 with value: 188555.0.\n",
      "[I 2025-07-22 12:31:38,603] Trial 3 finished with value: 196573.0 and parameters: {'n_estimators': 57, 'max_depth': 4, 'learning_rate': 0.13815524731561962, 'subsample': 0.9913613616079755, 'colsample_bytree': 0.69985358275036, 'gamma': 4.247172908279858, 'reg_lambda': 3.931461243482054, 'reg_alpha': 6.593473011660024}. Best is trial 0 with value: 188555.0.\n",
      "[I 2025-07-22 12:31:50,759] Trial 4 finished with value: 192386.0 and parameters: {'n_estimators': 62, 'max_depth': 5, 'learning_rate': 0.18506558176453974, 'subsample': 0.731649755393767, 'colsample_bytree': 0.7074670370857116, 'gamma': 3.776572961264521, 'reg_lambda': 1.940855289072109, 'reg_alpha': 1.833630966625479}. Best is trial 0 with value: 188555.0.\n",
      "[I 2025-07-22 12:32:14,443] Trial 5 finished with value: 190539.0 and parameters: {'n_estimators': 132, 'max_depth': 6, 'learning_rate': 0.16350505602989712, 'subsample': 0.8832126657093557, 'colsample_bytree': 0.616723837872925, 'gamma': 4.184439997565864, 'reg_lambda': 4.877915340382687, 'reg_alpha': 4.409035924756152}. Best is trial 0 with value: 188555.0.\n",
      "[I 2025-07-22 12:32:34,635] Trial 6 finished with value: 190484.0 and parameters: {'n_estimators': 81, 'max_depth': 6, 'learning_rate': 0.22630056041178914, 'subsample': 0.9987763781685768, 'colsample_bytree': 0.7468528025580798, 'gamma': 3.000797569281083, 'reg_lambda': 9.65559894522803, 'reg_alpha': 4.414197689077445}. Best is trial 0 with value: 188555.0.\n",
      "[I 2025-07-22 12:32:57,883] Trial 7 finished with value: 187981.0 and parameters: {'n_estimators': 132, 'max_depth': 6, 'learning_rate': 0.28121525784780527, 'subsample': 0.6587061168371416, 'colsample_bytree': 0.7969100033945186, 'gamma': 4.762460199737591, 'reg_lambda': 7.718106493701205, 'reg_alpha': 7.875540430082877}. Best is trial 7 with value: 187981.0.\n",
      "[I 2025-07-22 12:33:10,543] Trial 8 finished with value: 190749.0 and parameters: {'n_estimators': 76, 'max_depth': 4, 'learning_rate': 0.2946910482686653, 'subsample': 0.7768380319805414, 'colsample_bytree': 0.8323220194458023, 'gamma': 4.502255957220074, 'reg_lambda': 5.346349305973088, 'reg_alpha': 7.136794047132442}. Best is trial 7 with value: 187981.0.\n",
      "[I 2025-07-22 12:33:28,487] Trial 9 finished with value: 188555.0 and parameters: {'n_estimators': 106, 'max_depth': 5, 'learning_rate': 0.2833993019845118, 'subsample': 0.7724732584847859, 'colsample_bytree': 0.9408638706499288, 'gamma': 0.40104729334001, 'reg_lambda': 9.817925963541468, 'reg_alpha': 5.257009894631824}. Best is trial 7 with value: 187981.0.\n",
      "2025/07/22 12:33:39 WARNING mlflow.models.model: `artifact_path` is deprecated. Please use `name` instead.\n",
      "2025/07/22 12:33:41 WARNING mlflow.models.model: Model logged without a signature and input example. Please set `input_example` parameter when logging the model to auto infer the model signature.\n",
      "Registered model 'XGBoost' already exists. Creating a new version of this model...\n",
      "Created version '2' of model 'XGBoost'.\n"
     ]
    },
    {
     "data": {
      "image/png": "[encoded data removed]",
      "text/plain": [
       "<Figure size 800x400 with 1 Axes>"
      ]
     },
     "metadata": {},
     "output_type": "display_data"
    }
   ],
   "source": [
    "evaluate_model_with_cv_and_optuna(\n",
    "    model_class= XGBClassifier,\n",
    "    model_name=\"XGBoost\",\n",
    "    X_train=X_train,\n",
    "    y_train=y_train,\n",
    "    X_test=X_test,\n",
    "    y_test=y_test,\n",
    "    param_space=param_space_xgb,\n",
    "    cv_splits=3  # Validation croisée rapide\n",
    ")"
   ]
  },
  {
   "cell_type": "code",
   "execution_count": 19,
   "id": "fb36c86e-ab4f-4690-af92-809cd567dfe0",
   "metadata": {},
   "outputs": [
    {
     "name": "stderr",
     "output_type": "stream",
     "text": [
      "[I 2025-08-19 14:09:44,313] A new study created in memory with name: no-name-7eb4fdb7-e7c5-47a3-880c-72635c66083d\n",
      "[I 2025-08-19 14:10:12,739] Trial 0 finished with value: 194013.0 and parameters: {'n_estimators': 83, 'max_depth': 6, 'learning_rate': 0.11214443614737651, 'subsample': 0.9917462790034658, 'colsample_bytree': 0.96708710103461, 'gamma': 1.9177303930499097, 'reg_lambda': 6.12917734338276, 'reg_alpha': 8.90868800377356}. Best is trial 0 with value: 194013.0.\n",
      "[I 2025-08-19 14:10:41,385] Trial 1 finished with value: 193914.0 and parameters: {'n_estimators': 129, 'max_depth': 4, 'learning_rate': 0.10655701194576236, 'subsample': 0.8005889295332234, 'colsample_bytree': 0.884958332747305, 'gamma': 4.3446110129179685, 'reg_lambda': 8.97474832224419, 'reg_alpha': 1.5351059474928082}. Best is trial 1 with value: 193914.0.\n",
      "[I 2025-08-19 14:11:10,997] Trial 2 finished with value: 196242.0 and parameters: {'n_estimators': 127, 'max_depth': 4, 'learning_rate': 0.06486763289614819, 'subsample': 0.9040883034940164, 'colsample_bytree': 0.7260136280966878, 'gamma': 0.41914159324796585, 'reg_lambda': 1.661360255924509, 'reg_alpha': 3.64995646949668}. Best is trial 1 with value: 193914.0.\n",
      "[I 2025-08-19 14:11:41,625] Trial 3 finished with value: 189970.0 and parameters: {'n_estimators': 123, 'max_depth': 5, 'learning_rate': 0.19415055140569198, 'subsample': 0.6782129197993084, 'colsample_bytree': 0.9738392965573706, 'gamma': 3.026817511048416, 'reg_lambda': 8.393699565020256, 'reg_alpha': 4.838224850061328}. Best is trial 3 with value: 189970.0.\n",
      "[I 2025-08-19 14:12:00,869] Trial 4 finished with value: 197598.0 and parameters: {'n_estimators': 79, 'max_depth': 3, 'learning_rate': 0.10120269514261448, 'subsample': 0.9810883614821478, 'colsample_bytree': 0.9551135539940893, 'gamma': 4.178567237276712, 'reg_lambda': 2.036683419783207, 'reg_alpha': 9.09212241602085}. Best is trial 3 with value: 189970.0.\n",
      "[I 2025-08-19 14:12:25,694] Trial 5 finished with value: 194810.0 and parameters: {'n_estimators': 74, 'max_depth': 6, 'learning_rate': 0.0943843911236663, 'subsample': 0.7091058622345777, 'colsample_bytree': 0.7372085718301195, 'gamma': 1.3263312353484358, 'reg_lambda': 1.0763909923670205, 'reg_alpha': 4.244706221692992}. Best is trial 3 with value: 189970.0.\n",
      "[I 2025-08-19 14:12:55,816] Trial 6 finished with value: 192697.0 and parameters: {'n_estimators': 99, 'max_depth': 6, 'learning_rate': 0.10899617073415357, 'subsample': 0.896453648720527, 'colsample_bytree': 0.9071269007602913, 'gamma': 0.3501693981650711, 'reg_lambda': 0.88936760176771, 'reg_alpha': 4.115433922247613}. Best is trial 3 with value: 189970.0.\n",
      "[I 2025-08-19 14:13:21,422] Trial 7 finished with value: 192172.0 and parameters: {'n_estimators': 138, 'max_depth': 3, 'learning_rate': 0.18838555417703123, 'subsample': 0.6200032518439474, 'colsample_bytree': 0.7053628137348178, 'gamma': 4.400741005514122, 'reg_lambda': 1.2836105536072686, 'reg_alpha': 0.9341451480053237}. Best is trial 3 with value: 189970.0.\n",
      "[I 2025-08-19 14:13:51,622] Trial 8 finished with value: 198003.0 and parameters: {'n_estimators': 125, 'max_depth': 4, 'learning_rate': 0.04339570613026038, 'subsample': 0.8907572840267679, 'colsample_bytree': 0.7473933967201426, 'gamma': 3.4627708359657894, 'reg_lambda': 3.5568184678711785, 'reg_alpha': 9.975655277155255}. Best is trial 3 with value: 189970.0.\n",
      "[I 2025-08-19 14:14:16,360] Trial 9 finished with value: 197886.0 and parameters: {'n_estimators': 114, 'max_depth': 3, 'learning_rate': 0.06249122520494823, 'subsample': 0.9385544582464616, 'colsample_bytree': 0.7789299391958654, 'gamma': 2.286667396211697, 'reg_lambda': 6.533864503210983, 'reg_alpha': 2.339416619996284}. Best is trial 3 with value: 189970.0.\n",
      "[I 2025-08-19 14:14:34,912] Trial 10 finished with value: 191656.0 and parameters: {'n_estimators': 57, 'max_depth': 5, 'learning_rate': 0.24995746140996028, 'subsample': 0.6048024526542313, 'colsample_bytree': 0.6101435193316977, 'gamma': 3.0625858261074006, 'reg_lambda': 9.542260379181556, 'reg_alpha': 6.658516402785946}. Best is trial 3 with value: 189970.0.\n",
      "[I 2025-08-19 14:14:53,267] Trial 11 finished with value: 191077.0 and parameters: {'n_estimators': 57, 'max_depth': 5, 'learning_rate': 0.281162694339297, 'subsample': 0.6104024080506103, 'colsample_bytree': 0.6208129243899321, 'gamma': 3.1166153495991393, 'reg_lambda': 9.647300393501675, 'reg_alpha': 6.384365527729228}. Best is trial 3 with value: 189970.0.\n",
      "[I 2025-08-19 14:15:27,377] Trial 12 finished with value: 187756.0 and parameters: {'n_estimators': 148, 'max_depth': 5, 'learning_rate': 0.29863822342940305, 'subsample': 0.6800696561935997, 'colsample_bytree': 0.6017514684844633, 'gamma': 3.1427917781821013, 'reg_lambda': 8.280593014278145, 'reg_alpha': 6.429126057083334}. Best is trial 12 with value: 187756.0.\n",
      "[I 2025-08-19 14:16:02,288] Trial 13 finished with value: 189301.0 and parameters: {'n_estimators': 149, 'max_depth': 5, 'learning_rate': 0.20744780173163713, 'subsample': 0.7007460719965304, 'colsample_bytree': 0.833142944129823, 'gamma': 3.5821394197058405, 'reg_lambda': 7.789805225135916, 'reg_alpha': 6.092783515801438}. Best is trial 12 with value: 187756.0.\n",
      "[I 2025-08-19 14:16:35,934] Trial 14 finished with value: 187894.0 and parameters: {'n_estimators': 146, 'max_depth': 5, 'learning_rate': 0.2992234188401557, 'subsample': 0.7527762514459528, 'colsample_bytree': 0.8360599124698405, 'gamma': 3.67470184629445, 'reg_lambda': 7.444550098398619, 'reg_alpha': 6.496738882234213}. Best is trial 12 with value: 187756.0.\n",
      "[I 2025-08-19 14:17:10,158] Trial 15 finished with value: 188652.0 and parameters: {'n_estimators': 149, 'max_depth': 5, 'learning_rate': 0.2963784055012904, 'subsample': 0.7827027616895779, 'colsample_bytree': 0.838539640588795, 'gamma': 4.801035723330197, 'reg_lambda': 6.95935740646519, 'reg_alpha': 7.681731453750199}. Best is trial 12 with value: 187756.0.\n",
      "[I 2025-08-19 14:17:35,162] Trial 16 finished with value: 191024.0 and parameters: {'n_estimators': 104, 'max_depth': 4, 'learning_rate': 0.2471390738704552, 'subsample': 0.7764718118105532, 'colsample_bytree': 0.6633647775052135, 'gamma': 1.6240573226987054, 'reg_lambda': 4.840801443828709, 'reg_alpha': 7.823718318317237}. Best is trial 12 with value: 187756.0.\n",
      "[I 2025-08-19 14:18:13,016] Trial 17 finished with value: 187627.0 and parameters: {'n_estimators': 137, 'max_depth': 6, 'learning_rate': 0.2560593990558774, 'subsample': 0.7452963514372302, 'colsample_bytree': 0.8016984569331156, 'gamma': 2.5476919831093996, 'reg_lambda': 5.202884139373273, 'reg_alpha': 5.595566290584642}. Best is trial 17 with value: 187627.0.\n",
      "[I 2025-08-19 14:18:50,380] Trial 18 finished with value: 188080.0 and parameters: {'n_estimators': 138, 'max_depth': 6, 'learning_rate': 0.23288574012384544, 'subsample': 0.823170329821782, 'colsample_bytree': 0.662348098939845, 'gamma': 2.4607659989791486, 'reg_lambda': 4.930991093553092, 'reg_alpha': 3.0218012513751544}. Best is trial 17 with value: 187627.0.\n",
      "[I 2025-08-19 14:19:24,409] Trial 19 finished with value: 187515.0 and parameters: {'n_estimators': 111, 'max_depth': 6, 'learning_rate': 0.26540036355994323, 'subsample': 0.6552799436996207, 'colsample_bytree': 0.7880626188760906, 'gamma': 0.9629427818718903, 'reg_lambda': 3.3293580802169958, 'reg_alpha': 5.504251036005923}. Best is trial 19 with value: 187515.0.\n",
      "[I 2025-08-19 14:19:57,586] Trial 20 finished with value: 190312.0 and parameters: {'n_estimators': 108, 'max_depth': 6, 'learning_rate': 0.1611206336190359, 'subsample': 0.7327414289180574, 'colsample_bytree': 0.7935772310118893, 'gamma': 0.9427724468315616, 'reg_lambda': 3.48401885602857, 'reg_alpha': 5.100801560675121}. Best is trial 19 with value: 187515.0.\n",
      "[I 2025-08-19 14:20:27,270] Trial 21 finished with value: 188214.0 and parameters: {'n_estimators': 94, 'max_depth': 6, 'learning_rate': 0.26919371611961085, 'subsample': 0.6565679002674322, 'colsample_bytree': 0.8910991306725147, 'gamma': 2.6545246678441337, 'reg_lambda': 3.7845877469292204, 'reg_alpha': 5.537584490279721}. Best is trial 19 with value: 187515.0.\n",
      "[I 2025-08-19 14:21:06,957] Trial 22 finished with value: 189042.0 and parameters: {'n_estimators': 137, 'max_depth': 6, 'learning_rate': 0.21747523624361506, 'subsample': 0.6605144385572026, 'colsample_bytree': 0.6913311238336342, 'gamma': 1.9630916649221872, 'reg_lambda': 2.6103320746583476, 'reg_alpha': 7.71087082272753}. Best is trial 19 with value: 187515.0.\n",
      "[I 2025-08-19 14:21:41,485] Trial 23 finished with value: 188237.0 and parameters: {'n_estimators': 115, 'max_depth': 6, 'learning_rate': 0.2659963794471371, 'subsample': 0.6433220499404456, 'colsample_bytree': 0.7721250115311935, 'gamma': 1.074112825207591, 'reg_lambda': 5.949261560971779, 'reg_alpha': 7.170362092766955}. Best is trial 19 with value: 187515.0.\n",
      "[I 2025-08-19 14:22:16,113] Trial 24 finished with value: 190817.0 and parameters: {'n_estimators': 136, 'max_depth': 5, 'learning_rate': 0.16215550325648642, 'subsample': 0.8319266209157437, 'colsample_bytree': 0.8121038038107842, 'gamma': 0.05451278409732563, 'reg_lambda': 5.393513465670395, 'reg_alpha': 5.596944713211059}. Best is trial 19 with value: 187515.0.\n",
      "[I 2025-08-19 14:22:50,303] Trial 25 finished with value: 188448.0 and parameters: {'n_estimators': 115, 'max_depth': 6, 'learning_rate': 0.238663608477156, 'subsample': 0.7013971619968647, 'colsample_bytree': 0.8700567810015944, 'gamma': 2.698445016298813, 'reg_lambda': 4.477112573337929, 'reg_alpha': 3.1397559035278237}. Best is trial 19 with value: 187515.0.\n",
      "[I 2025-08-19 14:23:15,227] Trial 26 finished with value: 189062.0 and parameters: {'n_estimators': 89, 'max_depth': 5, 'learning_rate': 0.2692142204921523, 'subsample': 0.7456878337808834, 'colsample_bytree': 0.6421939139413138, 'gamma': 1.9877807699056567, 'reg_lambda': 0.3060830032748183, 'reg_alpha': 4.734186861190161}. Best is trial 19 with value: 187515.0.\n",
      "[I 2025-08-19 14:23:52,504] Trial 27 finished with value: 186054.0 and parameters: {'n_estimators': 143, 'max_depth': 6, 'learning_rate': 0.2839151539182131, 'subsample': 0.6844538821161079, 'colsample_bytree': 0.941895698493812, 'gamma': 3.899097398797554, 'reg_lambda': 2.7161750422613844, 'reg_alpha': 0.1270795391549635}. Best is trial 27 with value: 186054.0.\n",
      "[I 2025-08-19 14:24:26,362] Trial 28 finished with value: 187804.0 and parameters: {'n_estimators': 120, 'max_depth': 6, 'learning_rate': 0.22406547862579, 'subsample': 0.6345690284816395, 'colsample_bytree': 0.9415955281144552, 'gamma': 4.8447528972726435, 'reg_lambda': 2.8765623041371926, 'reg_alpha': 0.5500608119450852}. Best is trial 27 with value: 186054.0.\n",
      "[I 2025-08-19 14:24:50,306] Trial 29 finished with value: 192708.0 and parameters: {'n_estimators': 68, 'max_depth': 6, 'learning_rate': 0.13524369030746877, 'subsample': 0.726011868107666, 'colsample_bytree': 0.9964251924261556, 'gamma': 3.929473225743642, 'reg_lambda': 4.198521940722997, 'reg_alpha': 2.014725122107208}. Best is trial 27 with value: 186054.0.\n"
     ]
    },
    {
     "name": "stdout",
     "output_type": "stream",
     "text": [
      "Meilleur seuil trouvé : 0.10\n",
      "Coût métier total : 33031\n",
      "\n",
      "Rapport de classification :\n",
      "\n",
      "              precision    recall  f1-score   support\n",
      "\n",
      "           0      0.954     0.797     0.869     56554\n",
      "           1      0.196     0.565     0.291      4949\n",
      "\n",
      "    accuracy                          0.778     61503\n",
      "   macro avg      0.575     0.681     0.580     61503\n",
      "weighted avg      0.893     0.778     0.822     61503\n",
      "\n"
     ]
    }
   ],
   "source": [
    "from sklearn.model_selection import train_test_split, StratifiedKFold, cross_val_predict\n",
    "from sklearn.metrics import (\n",
    "    precision_score, recall_score, f1_score, roc_auc_score,\n",
    "    accuracy_score, confusion_matrix, classification_report\n",
    ")\n",
    "from xgboost import XGBClassifier\n",
    "import optuna\n",
    "import numpy as np\n",
    "import matplotlib.pyplot as plt\n",
    "\n",
    "# --------- Split des données ---------\n",
    "X = train_final.drop(columns=[\"TARGET\"])\n",
    "y = train_final[\"TARGET\"]\n",
    "\n",
    "X_train, X_test, y_train, y_test = train_test_split(\n",
    "    X, y, test_size=0.2, random_state=42\n",
    ")\n",
    "\n",
    "# --------- Fonctions utiles ---------\n",
    "def compute_business_cost(y_true, y_pred, fn_cost=10, fp_cost=1):\n",
    "    cm = confusion_matrix(y_true, y_pred)\n",
    "    tn, fp, fn, tp = cm.ravel()\n",
    "    return fn * fn_cost + fp * fp_cost\n",
    "\n",
    "def find_best_threshold(y_true, y_probas, thresholds=np.linspace(0.1, 0.9, 81), fn_cost=10, fp_cost=1):\n",
    "    best_threshold = 0.5\n",
    "    lowest_cost = float(\"inf\")\n",
    "    cost_per_threshold = []\n",
    "\n",
    "    for threshold in thresholds:\n",
    "        y_pred = (y_probas >= threshold).astype(int)\n",
    "        cost = compute_business_cost(y_true, y_pred, fn_cost, fp_cost)\n",
    "        cost_per_threshold.append((threshold, cost))\n",
    "        if cost < lowest_cost:\n",
    "            best_threshold = threshold\n",
    "            lowest_cost = cost\n",
    "\n",
    "    return best_threshold, lowest_cost, cost_per_threshold\n",
    "\n",
    "# --------- Définition de l'espace des hyperparamètres XGBoost ---------\n",
    "param_space_xgb = {\n",
    "    \"n_estimators\": (\"int\", 50, 150),\n",
    "    \"max_depth\": (\"int\", 3, 6),\n",
    "    \"learning_rate\": (\"float\", 0.01, 0.3),\n",
    "    \"subsample\": (\"float\", 0.6, 1.0),\n",
    "    \"colsample_bytree\": (\"float\", 0.6, 1.0),\n",
    "    \"gamma\": (\"float\", 0.0, 5.0),\n",
    "    \"reg_lambda\": (\"float\", 0.001, 10.0),\n",
    "    \"reg_alpha\": (\"float\", 0.001, 10.0),\n",
    "}\n",
    "\n",
    "# --------- Optimisation avec Optuna ---------\n",
    "def objective(trial):\n",
    "    params = {\n",
    "        key: (\n",
    "            trial.suggest_int(key, *space[1:]) if space[0] == \"int\"\n",
    "            else trial.suggest_float(key, *space[1:]) if space[0] == \"float\"\n",
    "            else trial.suggest_categorical(key, space)\n",
    "        )\n",
    "        for key, space in param_space_xgb.items()\n",
    "    }\n",
    "\n",
    "    model = XGBClassifier(use_label_encoder=False, eval_metric='logloss', **params)\n",
    "    y_val_proba = cross_val_predict(\n",
    "        model,\n",
    "        X_train,\n",
    "        y_train,\n",
    "        cv=StratifiedKFold(n_splits=3, shuffle=True, random_state=42),\n",
    "        method='predict_proba',\n",
    "        n_jobs=-1\n",
    "    )[:, 1]\n",
    "\n",
    "    y_val_pred = (y_val_proba >= 0.5).astype(int)\n",
    "    return compute_business_cost(y_train, y_val_pred)\n",
    "\n",
    "study = optuna.create_study(direction=\"minimize\")\n",
    "study.optimize(objective, n_trials=30)\n",
    "best_params = study.best_params\n",
    "\n",
    "# --------- Entraînement et évaluation finale ---------\n",
    "best_model = XGBClassifier(use_label_encoder=False, eval_metric='logloss', **best_params)\n",
    "best_model.fit(X_train, y_train)\n",
    "\n",
    "y_test_proba = best_model.predict_proba(X_test)[:, 1]\n",
    "best_threshold, cost, cost_curve = find_best_threshold(y_test, y_test_proba)\n",
    "y_test_pred = (y_test_proba >= best_threshold).astype(int)\n",
    "\n",
    "# --------- Résultats ---------\n",
    "print(f\"Meilleur seuil trouvé : {best_threshold:.2f}\")\n",
    "print(f\"Coût métier total : {cost}\")\n",
    "print(\"\\nRapport de classification :\\n\")\n",
    "print(classification_report(y_test, y_test_pred, digits=3))\n"
   ]
  }
 ],
 "metadata": {
  "kernelspec": {
   "display_name": "Python 3 (ipykernel)",
   "language": "python",
   "name": "python3"
  },
  "language_info": {
   "codemirror_mode": {
    "name": "ipython",
    "version": 3
   },
   "file_extension": ".py",
   "mimetype": "text/x-python",
   "name": "python",
   "nbconvert_exporter": "python",
   "pygments_lexer": "ipython3",
   "version": "3.13.3"
  }
 },
 "nbformat": 4,
 "nbformat_minor": 5
}
