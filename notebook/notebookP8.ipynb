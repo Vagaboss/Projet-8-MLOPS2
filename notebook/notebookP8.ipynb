{
 "cells": [
  {
   "cell_type": "code",
   "execution_count": 1,
   "id": "6f5be6fc-a467-4d9f-9c3b-f7554d67a63b",
   "metadata": {},
   "outputs": [],
   "source": [
    "# numpy and pandas for data manipulation\n",
    "import numpy as np\n",
    "import pandas as pd \n",
    "\n",
    "# sklearn preprocessing for dealing with categorical variables\n",
    "from sklearn.preprocessing import LabelEncoder\n",
    "\n",
    "# File system manangement\n",
    "import os\n",
    "\n",
    "# Suppress warnings \n",
    "import warnings\n",
    "warnings.filterwarnings('ignore')\n",
    "\n",
    "# matplotlib and seaborn for plotting\n",
    "import matplotlib.pyplot as plt\n",
    "import seaborn as sns"
   ]
  },
  {
   "cell_type": "code",
   "execution_count": 2,
   "id": "3f3506d2-681c-4a64-8fae-b96ee2d9b654",
   "metadata": {},
   "outputs": [
    {
     "name": "stdout",
     "output_type": "stream",
     "text": [
      "['test_final.csv', 'train_final.csv']\n"
     ]
    }
   ],
   "source": [
    "import os\n",
    "import pandas as pd\n",
    "\n",
    "# Changer le répertoire courant\n",
    "os.chdir(r\"C:\\Users\\yacin\\Desktop\\DATA SCIENCE OPENCLASSROOMS\\Projet 8 MLOPS2\\datasets\")\n",
    "\n",
    "# Afficher les fichiers pour vérifier\n",
    "print(os.listdir())"
   ]
  },
  {
   "cell_type": "code",
   "execution_count": 3,
   "id": "4788bf90-eece-4da3-b60e-49a5886e357b",
   "metadata": {},
   "outputs": [],
   "source": [
    "train_final = pd.read_csv(\"train_final.csv\")"
   ]
  },
  {
   "cell_type": "code",
   "execution_count": 4,
   "id": "f539e992-7152-41ac-a884-1e372515c2ff",
   "metadata": {},
   "outputs": [],
   "source": [
    "test_final = pd.read_csv(\"test_final.csv\")"
   ]
  },
  {
   "cell_type": "code",
   "execution_count": 5,
   "id": "c539aabc-d352-4a4a-ad30-215900375a76",
   "metadata": {},
   "outputs": [
    {
     "data": {
      "text/plain": [
       "(307511, 598)"
      ]
     },
     "execution_count": 5,
     "metadata": {},
     "output_type": "execute_result"
    }
   ],
   "source": [
    "train_final.shape"
   ]
  },
  {
   "cell_type": "code",
   "execution_count": 6,
   "id": "5b6c4357-c24f-4112-9640-80cd603af2d7",
   "metadata": {},
   "outputs": [
    {
     "data": {
      "text/plain": [
       "(48744, 597)"
      ]
     },
     "execution_count": 6,
     "metadata": {},
     "output_type": "execute_result"
    }
   ],
   "source": [
    "test_final.shape"
   ]
  },
  {
   "cell_type": "markdown",
   "id": "cd90528d-7447-4dd9-a270-cbe264fd47c4",
   "metadata": {},
   "source": [
    "## Fusion des données "
   ]
  },
  {
   "cell_type": "code",
   "execution_count": 7,
   "id": "d8116498-c3af-4a8a-8273-66ace12b3457",
   "metadata": {},
   "outputs": [],
   "source": [
    "pd.set_option('display.max_rows', 100)\n",
    "pd.set_option('display.max_columns', 100)"
   ]
  },
  {
   "cell_type": "markdown",
   "id": "fe881967-c617-42cf-b4b4-13d38c90d2af",
   "metadata": {},
   "source": [
    "Pourquoi un seuil à 0.1 : Par défaut, le seuil est 0.5.\n",
    "Mais dans ton projet, accorder un crédit à un mauvais client (FN) est très coûteux.\n",
    "\n",
    "Donc, en abaissant le seuil à 0.1, tu dis :\n",
    "\n",
    "    \"Même si j’ai seulement 10% de certitude qu’un client est mauvais, je préfère le classer comme tel pour éviter une perte potentielle.\""
   ]
  },
  {
   "cell_type": "code",
   "execution_count": 8,
   "id": "58be88c1-1c62-4d8f-a496-c3a89a40d4c0",
   "metadata": {},
   "outputs": [],
   "source": [
    "#XGBOOST"
   ]
  },
  {
   "cell_type": "code",
   "execution_count": 9,
   "id": "fb36c86e-ab4f-4690-af92-809cd567dfe0",
   "metadata": {
    "scrolled": true
   },
   "outputs": [
    {
     "name": "stderr",
     "output_type": "stream",
     "text": [
      "[I 2025-08-20 15:40:49,459] A new study created in memory with name: no-name-756a701a-9cc3-4207-ba49-f341b7007783\n",
      "[I 2025-08-20 15:41:08,766] Trial 0 finished with value: 198760.0 and parameters: {'n_estimators': 59, 'max_depth': 4, 'learning_rate': 0.03362092976141023, 'subsample': 0.602338704052726, 'colsample_bytree': 0.8693855634419014, 'gamma': 3.922610949101106, 'reg_lambda': 5.899250157807242, 'reg_alpha': 5.215501890680464}. Best is trial 0 with value: 198760.0.\n",
      "[I 2025-08-20 15:41:34,321] Trial 1 finished with value: 190372.0 and parameters: {'n_estimators': 107, 'max_depth': 4, 'learning_rate': 0.24804846059426322, 'subsample': 0.7633391440043886, 'colsample_bytree': 0.9644068618572104, 'gamma': 3.2662701047649922, 'reg_lambda': 1.7547098069883518, 'reg_alpha': 8.543591329611194}. Best is trial 1 with value: 190372.0.\n",
      "[I 2025-08-20 15:42:05,862] Trial 2 finished with value: 197196.0 and parameters: {'n_estimators': 136, 'max_depth': 4, 'learning_rate': 0.05115666524367053, 'subsample': 0.793395777216722, 'colsample_bytree': 0.9078138376911737, 'gamma': 2.7403949642231167, 'reg_lambda': 5.426638746426604, 'reg_alpha': 7.181291266581587}. Best is trial 1 with value: 190372.0.\n",
      "[I 2025-08-20 15:42:31,843] Trial 3 finished with value: 192516.0 and parameters: {'n_estimators': 92, 'max_depth': 5, 'learning_rate': 0.143351786571289, 'subsample': 0.6963469683327104, 'colsample_bytree': 0.7403246044863173, 'gamma': 1.1170625068095297, 'reg_lambda': 5.032963475606272, 'reg_alpha': 1.9459454339591835}. Best is trial 1 with value: 190372.0.\n",
      "[I 2025-08-20 15:43:02,238] Trial 4 finished with value: 189405.0 and parameters: {'n_estimators': 149, 'max_depth': 4, 'learning_rate': 0.2761309473332227, 'subsample': 0.9068710498109289, 'colsample_bytree': 0.7115253110582329, 'gamma': 1.1273590651446486, 'reg_lambda': 5.018913660591423, 'reg_alpha': 6.105390171695296}. Best is trial 4 with value: 189405.0.\n",
      "[I 2025-08-20 15:43:31,777] Trial 5 finished with value: 198675.0 and parameters: {'n_estimators': 137, 'max_depth': 3, 'learning_rate': 0.03559481722508383, 'subsample': 0.9754547341567966, 'colsample_bytree': 0.6347638713393745, 'gamma': 3.589199225808213, 'reg_lambda': 8.791513594890043, 'reg_alpha': 7.744101550550064}. Best is trial 4 with value: 189405.0.\n",
      "[I 2025-08-20 15:43:52,992] Trial 6 finished with value: 192333.0 and parameters: {'n_estimators': 69, 'max_depth': 5, 'learning_rate': 0.2063668710394696, 'subsample': 0.9434037089535472, 'colsample_bytree': 0.7402547416783538, 'gamma': 3.1277412340552484, 'reg_lambda': 8.919374125082046, 'reg_alpha': 2.652046797538721}. Best is trial 4 with value: 189405.0.\n",
      "[I 2025-08-20 15:44:17,447] Trial 7 finished with value: 197173.0 and parameters: {'n_estimators': 65, 'max_depth': 6, 'learning_rate': 0.05878460657176064, 'subsample': 0.8059370426620285, 'colsample_bytree': 0.9424027522397808, 'gamma': 1.8944806324753083, 'reg_lambda': 0.0448758216896484, 'reg_alpha': 2.0680120684160195}. Best is trial 4 with value: 189405.0.\n",
      "[I 2025-08-20 15:44:42,758] Trial 8 finished with value: 192305.0 and parameters: {'n_estimators': 83, 'max_depth': 6, 'learning_rate': 0.14700877966179438, 'subsample': 0.9916635895550682, 'colsample_bytree': 0.8449022893515621, 'gamma': 0.8343676497938968, 'reg_lambda': 7.0767623308028105, 'reg_alpha': 5.298525237525441}. Best is trial 4 with value: 189405.0.\n",
      "[I 2025-08-20 15:45:16,226] Trial 9 finished with value: 192782.0 and parameters: {'n_estimators': 142, 'max_depth': 5, 'learning_rate': 0.10263163930667704, 'subsample': 0.8740758860373874, 'colsample_bytree': 0.6259719791316672, 'gamma': 0.26422801214238123, 'reg_lambda': 9.729795746202603, 'reg_alpha': 1.0656506131202073}. Best is trial 4 with value: 189405.0.\n",
      "[I 2025-08-20 15:45:40,014] Trial 10 finished with value: 191390.0 and parameters: {'n_estimators': 116, 'max_depth': 3, 'learning_rate': 0.29378860643193294, 'subsample': 0.8920066376421458, 'colsample_bytree': 0.7386529134455146, 'gamma': 4.642103614072219, 'reg_lambda': 2.935889838469087, 'reg_alpha': 9.753615855695548}. Best is trial 4 with value: 189405.0.\n",
      "[I 2025-08-20 15:46:06,272] Trial 11 finished with value: 189625.0 and parameters: {'n_estimators': 113, 'max_depth': 4, 'learning_rate': 0.2782312922305415, 'subsample': 0.7620552056211275, 'colsample_bytree': 0.979558523731627, 'gamma': 1.9132739852819816, 'reg_lambda': 2.4219649913072394, 'reg_alpha': 7.987415811706503}. Best is trial 4 with value: 189405.0.\n",
      "[I 2025-08-20 15:46:32,383] Trial 12 finished with value: 188883.0 and parameters: {'n_estimators': 122, 'max_depth': 4, 'learning_rate': 0.2994419113947797, 'subsample': 0.7143201703449831, 'colsample_bytree': 0.9956597879804416, 'gamma': 1.9189810954368833, 'reg_lambda': 2.940643822337052, 'reg_alpha': 6.345783308707021}. Best is trial 12 with value: 188883.0.\n",
      "[I 2025-08-20 15:47:01,201] Trial 13 finished with value: 191377.0 and parameters: {'n_estimators': 149, 'max_depth': 3, 'learning_rate': 0.22201763430854454, 'subsample': 0.6723114122984684, 'colsample_bytree': 0.7897746701709749, 'gamma': 1.805690338491991, 'reg_lambda': 3.8297155060287738, 'reg_alpha': 3.9454788434502577}. Best is trial 12 with value: 188883.0.\n",
      "[I 2025-08-20 15:47:28,676] Trial 14 finished with value: 191602.0 and parameters: {'n_estimators': 125, 'max_depth': 4, 'learning_rate': 0.1971145087283183, 'subsample': 0.8520992701441874, 'colsample_bytree': 0.6721674652097541, 'gamma': 1.2019792558201388, 'reg_lambda': 3.805326052182186, 'reg_alpha': 6.711416547455503}. Best is trial 12 with value: 188883.0.\n",
      "[I 2025-08-20 15:47:58,350] Trial 15 finished with value: 189056.0 and parameters: {'n_estimators': 122, 'max_depth': 5, 'learning_rate': 0.2567775122029048, 'subsample': 0.7013900763448871, 'colsample_bytree': 0.6940308673845754, 'gamma': 0.23427996796693518, 'reg_lambda': 6.861526671742139, 'reg_alpha': 6.265608563044668}. Best is trial 12 with value: 188883.0.\n",
      "[I 2025-08-20 15:48:28,621] Trial 16 finished with value: 189165.0 and parameters: {'n_estimators': 126, 'max_depth': 5, 'learning_rate': 0.24253890993713195, 'subsample': 0.6759941903944103, 'colsample_bytree': 0.8153841261536965, 'gamma': 0.11476244292886802, 'reg_lambda': 6.7765008917649, 'reg_alpha': 3.7912483859053103}. Best is trial 12 with value: 188883.0.\n",
      "[I 2025-08-20 15:48:57,058] Trial 17 finished with value: 186725.0 and parameters: {'n_estimators': 98, 'max_depth': 6, 'learning_rate': 0.29725958759781645, 'subsample': 0.6012933157107625, 'colsample_bytree': 0.8973861848449128, 'gamma': 0.5201618409245394, 'reg_lambda': 0.9589479632979687, 'reg_alpha': 3.952427346978491}. Best is trial 17 with value: 186725.0.\n",
      "[I 2025-08-20 15:49:25,130] Trial 18 finished with value: 189134.0 and parameters: {'n_estimators': 95, 'max_depth': 6, 'learning_rate': 0.17942097559556508, 'subsample': 0.6128834973690541, 'colsample_bytree': 0.9965255843049377, 'gamma': 2.5359779389743675, 'reg_lambda': 0.42037127583248357, 'reg_alpha': 0.043626015683727815}. Best is trial 17 with value: 186725.0.\n",
      "[I 2025-08-20 15:49:51,303] Trial 19 finished with value: 187237.0 and parameters: {'n_estimators': 86, 'max_depth': 6, 'learning_rate': 0.29470100144040157, 'subsample': 0.6500810162700166, 'colsample_bytree': 0.9150739454304149, 'gamma': 1.634249522332417, 'reg_lambda': 1.4309046506342806, 'reg_alpha': 3.6391124415693814}. Best is trial 17 with value: 186725.0.\n",
      "[I 2025-08-20 15:50:15,660] Trial 20 finished with value: 189568.0 and parameters: {'n_estimators': 77, 'max_depth': 6, 'learning_rate': 0.229738878871388, 'subsample': 0.6249657028225428, 'colsample_bytree': 0.9057223060357369, 'gamma': 0.8024413174056311, 'reg_lambda': 1.1229536706897276, 'reg_alpha': 3.796660045367049}. Best is trial 17 with value: 186725.0.\n",
      "[I 2025-08-20 15:50:45,614] Trial 21 finished with value: 187162.0 and parameters: {'n_estimators': 103, 'max_depth': 6, 'learning_rate': 0.2983938524691473, 'subsample': 0.6433947858553296, 'colsample_bytree': 0.9273511554789546, 'gamma': 1.7673811942702269, 'reg_lambda': 1.5701359486499846, 'reg_alpha': 4.577821819191103}. Best is trial 17 with value: 186725.0.\n",
      "[I 2025-08-20 15:51:16,155] Trial 22 finished with value: 188017.0 and parameters: {'n_estimators': 103, 'max_depth': 6, 'learning_rate': 0.2652467523686038, 'subsample': 0.6480788162606334, 'colsample_bytree': 0.9147757567949181, 'gamma': 1.5319497187410345, 'reg_lambda': 1.2850257261539237, 'reg_alpha': 4.49506968156433}. Best is trial 17 with value: 186725.0.\n",
      "[I 2025-08-20 15:51:41,928] Trial 23 finished with value: 187298.0 and parameters: {'n_estimators': 86, 'max_depth': 6, 'learning_rate': 0.29374085075805173, 'subsample': 0.63809754161409, 'colsample_bytree': 0.8584387295719238, 'gamma': 2.3633031056781126, 'reg_lambda': 1.8125312194164511, 'reg_alpha': 2.8149772365592076}. Best is trial 17 with value: 186725.0.\n",
      "[I 2025-08-20 15:52:10,397] Trial 24 finished with value: 187669.0 and parameters: {'n_estimators': 98, 'max_depth': 6, 'learning_rate': 0.26796631535978, 'subsample': 0.7347146775224479, 'colsample_bytree': 0.9415853551805003, 'gamma': 0.5549493829141174, 'reg_lambda': 3.8780705720401194, 'reg_alpha': 2.916647908903844}. Best is trial 17 with value: 186725.0.\n",
      "[I 2025-08-20 15:52:34,064] Trial 25 finished with value: 187482.0 and parameters: {'n_estimators': 76, 'max_depth': 6, 'learning_rate': 0.298914034517839, 'subsample': 0.6584095845857112, 'colsample_bytree': 0.8834341573016727, 'gamma': 1.4745666114096099, 'reg_lambda': 0.6637782277412958, 'reg_alpha': 4.63109121059359}. Best is trial 17 with value: 186725.0.\n",
      "[I 2025-08-20 15:52:59,657] Trial 26 finished with value: 193882.0 and parameters: {'n_estimators': 89, 'max_depth': 5, 'learning_rate': 0.1085399112493532, 'subsample': 0.6046181691550767, 'colsample_bytree': 0.8159137214994425, 'gamma': 2.190512982582982, 'reg_lambda': 2.3354985454899744, 'reg_alpha': 5.505624940328416}. Best is trial 17 with value: 186725.0.\n",
      "[I 2025-08-20 15:53:30,039] Trial 27 finished with value: 189602.0 and parameters: {'n_estimators': 107, 'max_depth': 6, 'learning_rate': 0.17877540434576067, 'subsample': 0.6458695932399162, 'colsample_bytree': 0.9269464486302411, 'gamma': 1.4812743084733082, 'reg_lambda': 0.9184136083784901, 'reg_alpha': 3.606265352554245}. Best is trial 17 with value: 186725.0.\n",
      "[I 2025-08-20 15:53:48,386] Trial 28 finished with value: 190532.0 and parameters: {'n_estimators': 50, 'max_depth': 6, 'learning_rate': 0.23447303296340044, 'subsample': 0.7308383840587573, 'colsample_bytree': 0.9556767218718014, 'gamma': 0.6150673292156342, 'reg_lambda': 1.6899232838466376, 'reg_alpha': 1.4153703327938025}. Best is trial 17 with value: 186725.0.\n",
      "[I 2025-08-20 15:54:11,389] Trial 29 finished with value: 190878.0 and parameters: {'n_estimators': 80, 'max_depth': 5, 'learning_rate': 0.21535509419208498, 'subsample': 0.600658483370829, 'colsample_bytree': 0.8820536448784667, 'gamma': 2.8102725700521756, 'reg_lambda': 3.1672884956069893, 'reg_alpha': 4.860194770555923}. Best is trial 17 with value: 186725.0.\n"
     ]
    },
    {
     "name": "stdout",
     "output_type": "stream",
     "text": [
      "Meilleur seuil trouvé : 0.10\n",
      "Coût métier total : 32124\n",
      "\n",
      "Rapport de classification :\n",
      "\n",
      "              precision    recall  f1-score   support\n",
      "\n",
      "           0      0.956     0.793     0.867     56554\n",
      "           1      0.199     0.588     0.297      4949\n",
      "\n",
      "    accuracy                          0.776     61503\n",
      "   macro avg      0.578     0.690     0.582     61503\n",
      "weighted avg      0.896     0.776     0.821     61503\n",
      "\n"
     ]
    }
   ],
   "source": [
    "from sklearn.model_selection import train_test_split, StratifiedKFold, cross_val_predict\n",
    "from sklearn.metrics import (\n",
    "    precision_score, recall_score, f1_score, roc_auc_score,\n",
    "    accuracy_score, confusion_matrix, classification_report\n",
    ")\n",
    "from xgboost import XGBClassifier\n",
    "import optuna\n",
    "import numpy as np\n",
    "import matplotlib.pyplot as plt\n",
    "\n",
    "# --------- Split des données ---------\n",
    "X = train_final.drop(columns=[\"TARGET\"])\n",
    "y = train_final[\"TARGET\"]\n",
    "\n",
    "X_train, X_test, y_train, y_test = train_test_split(\n",
    "    X, y, test_size=0.2, random_state=42\n",
    ")\n",
    "\n",
    "# --------- Fonctions utiles ---------\n",
    "def compute_business_cost(y_true, y_pred, fn_cost=10, fp_cost=1):\n",
    "    cm = confusion_matrix(y_true, y_pred)\n",
    "    tn, fp, fn, tp = cm.ravel()\n",
    "    return fn * fn_cost + fp * fp_cost\n",
    "\n",
    "def find_best_threshold(y_true, y_probas, thresholds=np.linspace(0.1, 0.9, 81), fn_cost=10, fp_cost=1):\n",
    "    best_threshold = 0.5\n",
    "    lowest_cost = float(\"inf\")\n",
    "    cost_per_threshold = []\n",
    "\n",
    "    for threshold in thresholds:\n",
    "        y_pred = (y_probas >= threshold).astype(int)\n",
    "        cost = compute_business_cost(y_true, y_pred, fn_cost, fp_cost)\n",
    "        cost_per_threshold.append((threshold, cost))\n",
    "        if cost < lowest_cost:\n",
    "            best_threshold = threshold\n",
    "            lowest_cost = cost\n",
    "\n",
    "    return best_threshold, lowest_cost, cost_per_threshold\n",
    "\n",
    "# --------- Définition de l'espace des hyperparamètres XGBoost ---------\n",
    "param_space_xgb = {\n",
    "    \"n_estimators\": (\"int\", 50, 150),\n",
    "    \"max_depth\": (\"int\", 3, 6),\n",
    "    \"learning_rate\": (\"float\", 0.01, 0.3),\n",
    "    \"subsample\": (\"float\", 0.6, 1.0),\n",
    "    \"colsample_bytree\": (\"float\", 0.6, 1.0),\n",
    "    \"gamma\": (\"float\", 0.0, 5.0),\n",
    "    \"reg_lambda\": (\"float\", 0.001, 10.0),\n",
    "    \"reg_alpha\": (\"float\", 0.001, 10.0),\n",
    "}\n",
    "\n",
    "# --------- Optimisation avec Optuna ---------\n",
    "def objective(trial):\n",
    "    params = {\n",
    "        key: (\n",
    "            trial.suggest_int(key, *space[1:]) if space[0] == \"int\"\n",
    "            else trial.suggest_float(key, *space[1:]) if space[0] == \"float\"\n",
    "            else trial.suggest_categorical(key, space)\n",
    "        )\n",
    "        for key, space in param_space_xgb.items()\n",
    "    }\n",
    "\n",
    "    model = XGBClassifier(use_label_encoder=False, eval_metric='logloss', **params)\n",
    "    y_val_proba = cross_val_predict(\n",
    "        model,\n",
    "        X_train,\n",
    "        y_train,\n",
    "        cv=StratifiedKFold(n_splits=3, shuffle=True, random_state=42),\n",
    "        method='predict_proba',\n",
    "        n_jobs=-1\n",
    "    )[:, 1]\n",
    "\n",
    "    y_val_pred = (y_val_proba >= 0.5).astype(int)\n",
    "    return compute_business_cost(y_train, y_val_pred)\n",
    "\n",
    "study = optuna.create_study(direction=\"minimize\")\n",
    "study.optimize(objective, n_trials=30)\n",
    "best_params = study.best_params\n",
    "\n",
    "# --------- Entraînement et évaluation finale ---------\n",
    "best_model = XGBClassifier(use_label_encoder=False, eval_metric='logloss', **best_params)\n",
    "best_model.fit(X_train, y_train)\n",
    "\n",
    "y_test_proba = best_model.predict_proba(X_test)[:, 1]\n",
    "best_threshold, cost, cost_curve = find_best_threshold(y_test, y_test_proba)\n",
    "y_test_pred = (y_test_proba >= best_threshold).astype(int)\n",
    "\n",
    "# --------- Résultats ---------\n",
    "print(f\"Meilleur seuil trouvé : {best_threshold:.2f}\")\n",
    "print(f\"Coût métier total : {cost}\")\n",
    "print(\"\\nRapport de classification :\\n\")\n",
    "print(classification_report(y_test, y_test_pred, digits=3))\n"
   ]
  }
 ],
 "metadata": {
  "kernelspec": {
   "display_name": "Python 3 (ipykernel)",
   "language": "python",
   "name": "python3"
  },
  "language_info": {
   "codemirror_mode": {
    "name": "ipython",
    "version": 3
   },
   "file_extension": ".py",
   "mimetype": "text/x-python",
   "name": "python",
   "nbconvert_exporter": "python",
   "pygments_lexer": "ipython3",
   "version": "3.13.3"
  }
 },
 "nbformat": 4,
 "nbformat_minor": 5
}
